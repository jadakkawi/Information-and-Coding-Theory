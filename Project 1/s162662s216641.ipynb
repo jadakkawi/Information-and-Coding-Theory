{
 "cells": [
  {
   "cell_type": "markdown",
   "metadata": {
    "deletable": false,
    "editable": false
   },
   "source": [
    "# Project 1 - Information measures\n",
    "\n",
    "The goal of this first project is to get accustomed to the information and uncertainty measures. We ask you to write a brief report (pdf format) collecting your answers to the different questions. All codes must be written in Python inside this Jupyter Notebook. No other code file will be accepted. Note that you can not change the content of locked cells or import any extra Python library than the ones already imported (numpy and pandas)."
   ]
  },
  {
   "cell_type": "markdown",
   "metadata": {
    "deletable": false,
    "editable": false
   },
   "source": [
    "## Implementation\n",
    "\n",
    "In this project, you will need to use information measures to answer several questions. Therefore, in this first part, you are asked to write several functions that implement some of the main measures seen in the first theoretical lectures. Remember that you need to fill in this Jupyter Notebook to answer these questions. Pay particular attention to the required output format of each function."
   ]
  },
  {
   "cell_type": "code",
   "execution_count": 1,
   "metadata": {
    "deletable": false,
    "editable": false
   },
   "outputs": [],
   "source": [
    "# [Locked Cell] You can not import any extra Python library in this Notebook.\n",
    "import numpy as np\n",
    "import pandas as pd"
   ]
  },
  {
   "cell_type": "markdown",
   "metadata": {
    "deletable": false,
    "editable": false
   },
   "source": [
    "### Question 1\n",
    "\n",
    "Write a function entropy that computes the entropy $\\mathcal{H(X)}$ of a random variable $\\mathcal{X}$ from its probability distribution $P_\\mathcal{X} = (p_1, p_2, . . . , p_n)$. Give the mathematical formula that you are using and explain the key parts of your implementation. Intuitively, what is measured by the entropy?"
   ]
  },
  {
   "cell_type": "code",
   "execution_count": 2,
   "metadata": {},
   "outputs": [],
   "source": [
    "def entropy(Px):\n",
    "    \"\"\"\n",
    "    Computes the entropy from the marginal probability distribution. \n",
    "    Arguments:\n",
    "    ----------\n",
    "    - Px :  Marginal probability distribution of the random \n",
    "            variable X in a numpy array where Px[i]=P(X=i)\n",
    "    Return:\n",
    "    -------\n",
    "    - The entropy of X (H(X)) as a number (integer, float or double).\n",
    "    \"\"\"\n",
    "    sum = 0\n",
    "\n",
    "    for _, Pi in enumerate(Px):\n",
    "        if Pi == 0:\n",
    "            continue\n",
    "        sum = sum - Pi * np.log2(Pi)\n",
    "\n",
    "    return sum"
   ]
  },
  {
   "cell_type": "markdown",
   "metadata": {
    "deletable": false,
    "editable": false
   },
   "source": [
    "### Question 2\n",
    "\n",
    "Write a function joint_entropy that computes the joint entropy $\\mathcal{H(X,Y)}$ of two discrete random variables $\\mathcal{X}$ and $\\mathcal{Y}$ from the joint probability distribution $P_\\mathcal{X,Y}$. Give the mathematical formula that you are using and explain the key parts of your implementation. Compare the entropy and joint_entropy functions (and their corresponding formulas), what do you notice?"
   ]
  },
  {
   "cell_type": "code",
   "execution_count": 3,
   "metadata": {},
   "outputs": [],
   "source": [
    "def joint_entropy(Pxy):\n",
    "    \"\"\"\n",
    "    Computes the joint entropy from the joint probability distribution.  \n",
    "    Arguments:\n",
    "    ----------\n",
    "    - Pxy:  joint probability distribution of X and Y \n",
    "            in a 2-D numpy array where Pxy[i][j]=P(X=i,Y=j)\n",
    "    Return:\n",
    "    -------\n",
    "    - The joint entropy H(X,Y) as a number (integer, float or double).\n",
    "    \"\"\"\n",
    "    sum = 0\n",
    "\n",
    "    for _, Pij in np.ndenumerate(Pxy):\n",
    "        if Pij == 0:\n",
    "            continue\n",
    "        sum = sum - Pij * np.log2(Pij)\n",
    "\n",
    "    return sum"
   ]
  },
  {
   "cell_type": "markdown",
   "metadata": {
    "deletable": false,
    "editable": false
   },
   "source": [
    "### Question 3\n",
    "\n",
    "Write a function conditional_entropy that computes the conditional entropy $\\mathcal{H(X|Y)}$ of a discrete random variable $\\mathcal{X}$ given another discrete random variable $\\mathcal{Y}$ from the joint probability distribution $P_\\mathcal{X,Y}$. Give the mathematical formula that you are using and explain the key parts of your implementation. Describe an equivalent way of computing that quantity."
   ]
  },
  {
   "cell_type": "code",
   "execution_count": 4,
   "metadata": {},
   "outputs": [],
   "source": [
    "def conditional_entropy(Pxy):\n",
    "    \"\"\"\n",
    "    Computes the conditional entropy from the joint probability distribution.\n",
    "    Arguments:\n",
    "    ----------\n",
    "    - Pxy:  joint probability distribution of X and Y \n",
    "            in a 2-D numpy array where Pxy[i][j]=P(X=i,Y=j)\n",
    "    Return:\n",
    "    -------\n",
    "    - The conditional entropy H(X|Y) as a number (integer, float or double)\n",
    "    \"\"\"\n",
    "    sum = 0\n",
    "\n",
    "    Py = np.sum(Pxy,0)\n",
    "\n",
    "    for (i,j), Pij in np.ndenumerate(Pxy):\n",
    "        if Pij == 0:\n",
    "            continue\n",
    "        sum = sum - Pij * np.log2(Pij/Py[j])\n",
    "\n",
    "    return sum"
   ]
  },
  {
   "cell_type": "markdown",
   "metadata": {
    "deletable": false,
    "editable": false
   },
   "source": [
    "### Question 4\n",
    "\n",
    "Write a function mutual_information that computes the mutual information $\\mathcal{I(X;Y)}$ between two discrete random variables $\\mathcal{X}$ and $\\mathcal{Y}$ from the joint probability distribution $P_\\mathcal{X,Y}$ . Give the mathematical formula that you are using and explain the key parts of your implementation. What can you deduce from the mutual information $\\mathcal{I(X;Y)}$ on the relationship between $\\mathcal{X}$ and $\\mathcal{Y}$? Discuss."
   ]
  },
  {
   "cell_type": "code",
   "execution_count": 5,
   "metadata": {},
   "outputs": [],
   "source": [
    "def mutual_information(Pxy):\n",
    "    \"\"\"\n",
    "    Computes the mutual information I(X;Y) from joint probability distribution\n",
    "    \n",
    "    Arguments:\n",
    "    ----------\n",
    "    - Pxy:  joint probability distribution of X and Y \n",
    "            in a 2-D numpy array where Pxy[i][j]=P(X=i,Y=j)\n",
    "    Return:\n",
    "    -------\n",
    "    - The mutual information I(X;Y) as a number (integer, float or double)\n",
    "    \"\"\"\n",
    "\n",
    "    sum = 0\n",
    "\n",
    "    Px = np.sum(Pxy,1)\n",
    "    Py = np.sum(Pxy,0)\n",
    "\n",
    "    for (i,j), Pij in np.ndenumerate(Pxy):\n",
    "        if Px[i] == 0 or Py[j] == 0 or Pij == 0:\n",
    "            continue\n",
    "        sum = sum + Pij * np.log2(Pij/(Px[i]*Py[j]))\n",
    "\n",
    "    return sum"
   ]
  },
  {
   "cell_type": "markdown",
   "metadata": {
    "deletable": false,
    "editable": false
   },
   "source": [
    "### Question 5\n",
    "\n",
    "Let $\\mathcal{X}$, $\\mathcal{Y}$ and $\\mathcal{Z}$ be three discrete random variables. Write the functions cond_joint_entropy and cond_mutual_information that respectively compute $\\mathcal{H(X,Y|Z)}$ and $\\mathcal{I(X;Y|Z)}$ of two discrete random variable $\\mathcal{X}$, $\\mathcal{Y}$ given another discrete random variable $\\mathcal{Z}$ from their joint probability distribution $P_\\mathcal{X,Y,Z}$. Give the mathematical formulas that you are using and explain the key parts of your implementation.\n",
    "Suggestion: Observe the mathematical definitions of these quantities and think how you could derive them from the joint entropy and the mutual information."
   ]
  },
  {
   "cell_type": "code",
   "execution_count": 6,
   "metadata": {},
   "outputs": [],
   "source": [
    "def cond_joint_entropy(Pxyz):\n",
    "    \"\"\"\n",
    "    Computes the conditional joint entropy of X, Y knowing Z \n",
    "    from the joint probability distribution Pxyz\n",
    "    Arguments:\n",
    "    ----------\n",
    "    - Pxyz: joint probability distribution of X, Y and Z\n",
    "            in a 3-D array where Pxyz[i][j][k]=P(X=i,Y=j,Z=k)\n",
    "    Return:\n",
    "    -------\n",
    "    - The conditional joint entropy H(X,Y|Z) as a number (integer, float or double)\n",
    "    \n",
    "    \"\"\"\n",
    "    Pz = np.sum(Pxyz, (0,1))\n",
    "\n",
    "    return joint_entropy(Pxyz) - entropy(Pz)"
   ]
  },
  {
   "cell_type": "code",
   "execution_count": 7,
   "metadata": {},
   "outputs": [],
   "source": [
    "def cond_mutual_information(Pxyz):\n",
    "    \"\"\"\n",
    "    Computes the conditional mutual information of X, Y knowing Z \n",
    "    from joint probability distribution Pxyz\n",
    "    Arguments:\n",
    "    ----------\n",
    "    - Pxyz: joint probability distribution of X, Y and Z\n",
    "            in a 3-D array where Pxyz[i][j][k]=P(X=i,Y=j,Z=k)\n",
    "    Return:\n",
    "    -------\n",
    "    - I(X;Y|Z): The conditional joint entropy as a number (integer, float or double)\n",
    "    \n",
    "    \"\"\"\n",
    "\n",
    "    Pxz = np.sum(Pxyz, 1)\n",
    "    Pyz = np.sum(Pxyz, 0)\n",
    "\n",
    "    return conditional_entropy(Pxz) - joint_entropy(Pxyz) + joint_entropy(Pyz)"
   ]
  },
  {
   "cell_type": "code",
   "execution_count": 8,
   "metadata": {
    "deletable": false,
    "editable": false
   },
   "outputs": [],
   "source": [
    "# [Locked Cell] Evaluation of your functions by the examiner. \n",
    "# You don't have access to the evaluation, this will be done by the examiner.\n",
    "# Therefore, this cell will return nothing for the students.\n",
    "import os\n",
    "if os.path.isfile(\"private_evaluation.py\"):\n",
    "    from private_evaluation import unit_tests\n",
    "    unit_tests(entropy, joint_entropy, conditional_entropy, mutual_information, cond_joint_entropy, cond_mutual_information)"
   ]
  },
  {
   "cell_type": "markdown",
   "metadata": {
    "deletable": false,
    "editable": false
   },
   "source": [
    "## Weather forecasting\n",
    "\n",
    "You may create cells below to answer the different questions related to weather forecasting. Unlike in the first part (Implementation), you are free to define as many cells as you need below to answer the different questions. Try to be structured and clear in your code (comment it if necessary). Note that you have to answer the questions in the pdf report, including the numbers you get!"
   ]
  },
  {
   "cell_type": "markdown",
   "metadata": {
    "pycharm": {
     "name": "#%% md\n"
    }
   },
   "source": [
    "### Question 6"
   ]
  },
  {
   "cell_type": "code",
   "execution_count": 9,
   "outputs": [],
   "source": [
    "# Read the csv file\n",
    "df = pd.read_csv ('weather_data.csv')\n",
    "#df.info"
   ],
   "metadata": {
    "collapsed": false,
    "pycharm": {
     "name": "#%%\n"
    }
   }
  },
  {
   "cell_type": "code",
   "execution_count": 10,
   "outputs": [],
   "source": [
    "# Compute the probability distribution of each column, then compute the entropy\n",
    "zero_data = np.zeros(shape=(3,len(df.columns)))\n",
    "entropy_df = pd.DataFrame(zero_data, columns = df.columns, index=['entropy', 'cardinality', 'log(card)'])\n",
    "\n",
    "for col in df.columns:\n",
    "    item_counts = df[col].value_counts()\n",
    "    Px = item_counts/np.sum(item_counts)\n",
    "    entropy_df[col][0] = entropy(Px)\n",
    "    entropy_df[col][1] = int(item_counts.shape[0])\n",
    "    entropy_df[col][2] = np.log2(item_counts.shape[0])\n",
    "\n",
    "#print(entropy_df)\n",
    "\n",
    "# To latex\n",
    "\n",
    "#print(entropy_df[['temperature', 'air_pressure', 'same_day_rain', 'next_day_rain', 'relative_humidity']].to_latex())\n",
    "#print(entropy_df[['wind_direction', 'wind_speed', 'cloud_height', 'cloud_density', 'month']].to_latex())\n",
    "#print(entropy_df[['day', 'daylight', 'lightning', 'air_quality']].to_latex())\n"
   ],
   "metadata": {
    "collapsed": false,
    "pycharm": {
     "name": "#%%\n"
    }
   }
  },
  {
   "cell_type": "markdown",
   "source": [
    "### Question 7"
   ],
   "metadata": {
    "collapsed": false,
    "pycharm": {
     "name": "#%% md\n"
    }
   }
  },
  {
   "cell_type": "code",
   "execution_count": 11,
   "outputs": [
    {
     "name": "stdout",
     "output_type": "stream",
     "text": [
      "                     temperature  air_pressure  same_day_rain  \\\n",
      "conditional entropy     1.568101      0.939975       1.389486   \n",
      "\n",
      "                     relative_humidity  wind_direction  wind_speed  \\\n",
      "conditional entropy           1.301055        1.567815    1.567767   \n",
      "\n",
      "                     cloud_height  cloud_density    month       day  daylight  \\\n",
      "conditional entropy      1.566763        1.56659  1.56488  1.567157  1.568259   \n",
      "\n",
      "                     lightning  air_quality  \n",
      "conditional entropy   1.568233     1.567881  \n"
     ]
    }
   ],
   "source": [
    "cond_entropy = np.zeros(shape=(1,len(df.columns)-1))\n",
    "col_without_next_day_rain = list(df.columns)\n",
    "col_without_next_day_rain.remove(\"next_day_rain\")\n",
    "cond_entropy_df = pd.DataFrame(cond_entropy, columns = col_without_next_day_rain, index=['conditional entropy'])\n",
    "\n",
    "for col in col_without_next_day_rain:\n",
    "    Pxy = pd.crosstab(df[\"next_day_rain\"], df[col])\n",
    "    Pxy = Pxy.to_numpy()\n",
    "    Pxy = Pxy/len(df)\n",
    "    cond_entropy_df[col] = conditional_entropy(Pxy)\n",
    "\n",
    "print(cond_entropy_df)\n",
    "\n",
    "# To latex\n",
    "\n",
    "#print(cond_entropy_df[['temperature', 'air_pressure', 'same_day_rain', 'relative_humidity', 'wind_direction']].to_latex())\n",
    "#print(cond_entropy_df[['wind_speed', 'cloud_height', 'cloud_density', 'month', 'day']].to_latex())\n",
    "#print(cond_entropy_df[['daylight', 'lightning', 'air_quality']].to_latex())"
   ],
   "metadata": {
    "collapsed": false,
    "pycharm": {
     "name": "#%%\n"
    }
   }
  },
  {
   "cell_type": "markdown",
   "source": [
    "### Question 8"
   ],
   "metadata": {
    "collapsed": false
   }
  },
  {
   "cell_type": "code",
   "execution_count": 12,
   "outputs": [
    {
     "name": "stdout",
     "output_type": "stream",
     "text": [
      "0.00012439598067303954\n",
      "0.5753467937246421\n"
     ]
    }
   ],
   "source": [
    "Pxy = pd.crosstab(df['relative_humidity'], df['wind_speed'])\n",
    "Pxy = Pxy/len(df)\n",
    "Pxy = Pxy.to_numpy()\n",
    "#print(Pxy)\n",
    "print(mutual_information(Pxy))\n",
    "\n",
    "\n",
    "\n",
    "Pxy = pd.crosstab(df['month'], df['temperature'])\n",
    "Pxy = Pxy/len(df)\n",
    "Pxy = Pxy.to_numpy()\n",
    "#print(Pxy)\n",
    "print(mutual_information(Pxy))"
   ],
   "metadata": {
    "collapsed": false,
    "pycharm": {
     "name": "#%%\n"
    }
   }
  },
  {
   "cell_type": "markdown",
   "source": [
    "### Question 9"
   ],
   "metadata": {
    "collapsed": false,
    "pycharm": {
     "name": "#%% md\n"
    }
   }
  },
  {
   "cell_type": "code",
   "execution_count": 13,
   "outputs": [
    {
     "name": "stdout",
     "output_type": "stream",
     "text": [
      "                    temperature  air_pressure  same_day_rain  \\\n",
      "Mutual information     0.000555      0.628681       0.179171   \n",
      "\n",
      "                    relative_humidity  wind_direction  wind_speed  \\\n",
      "Mutual information           0.267601        0.000841    0.000889   \n",
      "\n",
      "                    cloud_height  cloud_density     month       day  daylight  \\\n",
      "Mutual information      0.001893       0.002066  0.003776  0.001499  0.000397   \n",
      "\n",
      "                    lightning  air_quality  \n",
      "Mutual information   0.000424     0.000775  \n"
     ]
    }
   ],
   "source": [
    "mutual_info = np.zeros(shape=(1,len(df.columns)-1))\n",
    "col_without_next_day_rain = list(df.columns)\n",
    "col_without_next_day_rain.remove(\"next_day_rain\")\n",
    "mutual_info_df = pd.DataFrame(mutual_info, columns = col_without_next_day_rain, index=['Mutual information'])\n",
    "\n",
    "for col in col_without_next_day_rain:\n",
    "    Pxy = pd.crosstab(df[\"next_day_rain\"], df[col])\n",
    "    Pxy = Pxy.to_numpy()\n",
    "    Pxy = Pxy/len(df)\n",
    "    mutual_info_df[col] = mutual_information(Pxy)\n",
    "\n",
    "print(mutual_info_df)"
   ],
   "metadata": {
    "collapsed": false,
    "pycharm": {
     "name": "#%%\n"
    }
   }
  },
  {
   "cell_type": "markdown",
   "source": [
    "### Question 10"
   ],
   "metadata": {
    "collapsed": false,
    "pycharm": {
     "name": "#%% md\n"
    }
   }
  },
  {
   "cell_type": "code",
   "execution_count": 14,
   "outputs": [
    {
     "name": "stdout",
     "output_type": "stream",
     "text": [
      "                    temperature  air_pressure  same_day_rain  \\\n",
      "Mutual information     0.000822      0.008075       0.158054   \n",
      "\n",
      "                    relative_humidity  wind_direction  wind_speed  \\\n",
      "Mutual information           0.439192        0.000773    0.000701   \n",
      "\n",
      "                    cloud_height  cloud_density     month       day  daylight  \\\n",
      "Mutual information      0.000474        0.00026  0.003855  0.000637  0.000347   \n",
      "\n",
      "                    lightning  air_quality  \n",
      "Mutual information   0.000412     0.001078  \n"
     ]
    }
   ],
   "source": [
    "mutual_info = np.zeros(shape=(1,len(df.columns)-1))\n",
    "col_without_next_day_rain = list(df.columns)\n",
    "col_without_next_day_rain.remove(\"next_day_rain\")\n",
    "mutual_info_df = pd.DataFrame(mutual_info, columns = col_without_next_day_rain, index=['Mutual information'])\n",
    "\n",
    "drizzluge_df = df[df[\"next_day_rain\"] != \"dry\"]\n",
    "\n",
    "for col in col_without_next_day_rain:\n",
    "    Pxy = pd.crosstab(drizzluge_df[\"next_day_rain\"], drizzluge_df[col])\n",
    "    Pxy = Pxy.to_numpy()\n",
    "    Pxy = Pxy/len(drizzluge_df)\n",
    "    mutual_info_df[col] = mutual_information(Pxy)\n",
    "\n",
    "print(mutual_info_df)"
   ],
   "metadata": {
    "collapsed": false,
    "pycharm": {
     "name": "#%%\n"
    }
   }
  },
  {
   "cell_type": "markdown",
   "source": [
    "### Question 11"
   ],
   "metadata": {
    "collapsed": false,
    "pycharm": {
     "name": "#%% md\n"
    }
   }
  },
  {
   "cell_type": "code",
   "execution_count": 15,
   "outputs": [
    {
     "ename": "ValueError",
     "evalue": "Shape of passed values is (1, 12), indices imply (1, 13)",
     "output_type": "error",
     "traceback": [
      "\u001B[0;31m---------------------------------------------------------------------------\u001B[0m",
      "\u001B[0;31mValueError\u001B[0m                                Traceback (most recent call last)",
      "\u001B[0;32m~/opt/anaconda3/envs/deep_learning/lib/python3.8/site-packages/pandas/core/internals/managers.py\u001B[0m in \u001B[0;36mcreate_block_manager_from_blocks\u001B[0;34m(blocks, axes)\u001B[0m\n\u001B[1;32m   1661\u001B[0m                 blocks = [\n\u001B[0;32m-> 1662\u001B[0;31m                     \u001B[0mmake_block\u001B[0m\u001B[0;34m(\u001B[0m\u001B[0mvalues\u001B[0m\u001B[0;34m=\u001B[0m\u001B[0mblocks\u001B[0m\u001B[0;34m[\u001B[0m\u001B[0;36m0\u001B[0m\u001B[0;34m]\u001B[0m\u001B[0;34m,\u001B[0m \u001B[0mplacement\u001B[0m\u001B[0;34m=\u001B[0m\u001B[0mslice\u001B[0m\u001B[0;34m(\u001B[0m\u001B[0;36m0\u001B[0m\u001B[0;34m,\u001B[0m \u001B[0mlen\u001B[0m\u001B[0;34m(\u001B[0m\u001B[0maxes\u001B[0m\u001B[0;34m[\u001B[0m\u001B[0;36m0\u001B[0m\u001B[0;34m]\u001B[0m\u001B[0;34m)\u001B[0m\u001B[0;34m)\u001B[0m\u001B[0;34m)\u001B[0m\u001B[0;34m\u001B[0m\u001B[0;34m\u001B[0m\u001B[0m\n\u001B[0m\u001B[1;32m   1663\u001B[0m                 ]\n",
      "\u001B[0;32m~/opt/anaconda3/envs/deep_learning/lib/python3.8/site-packages/pandas/core/internals/blocks.py\u001B[0m in \u001B[0;36mmake_block\u001B[0;34m(values, placement, klass, ndim, dtype)\u001B[0m\n\u001B[1;32m   2721\u001B[0m \u001B[0;34m\u001B[0m\u001B[0m\n\u001B[0;32m-> 2722\u001B[0;31m     \u001B[0;32mreturn\u001B[0m \u001B[0mklass\u001B[0m\u001B[0;34m(\u001B[0m\u001B[0mvalues\u001B[0m\u001B[0;34m,\u001B[0m \u001B[0mndim\u001B[0m\u001B[0;34m=\u001B[0m\u001B[0mndim\u001B[0m\u001B[0;34m,\u001B[0m \u001B[0mplacement\u001B[0m\u001B[0;34m=\u001B[0m\u001B[0mplacement\u001B[0m\u001B[0;34m)\u001B[0m\u001B[0;34m\u001B[0m\u001B[0;34m\u001B[0m\u001B[0m\n\u001B[0m\u001B[1;32m   2723\u001B[0m \u001B[0;34m\u001B[0m\u001B[0m\n",
      "\u001B[0;32m~/opt/anaconda3/envs/deep_learning/lib/python3.8/site-packages/pandas/core/internals/blocks.py\u001B[0m in \u001B[0;36m__init__\u001B[0;34m(self, values, placement, ndim)\u001B[0m\n\u001B[1;32m    129\u001B[0m         \u001B[0;32mif\u001B[0m \u001B[0mself\u001B[0m\u001B[0;34m.\u001B[0m\u001B[0m_validate_ndim\u001B[0m \u001B[0;32mand\u001B[0m \u001B[0mself\u001B[0m\u001B[0;34m.\u001B[0m\u001B[0mndim\u001B[0m \u001B[0;32mand\u001B[0m \u001B[0mlen\u001B[0m\u001B[0;34m(\u001B[0m\u001B[0mself\u001B[0m\u001B[0;34m.\u001B[0m\u001B[0mmgr_locs\u001B[0m\u001B[0;34m)\u001B[0m \u001B[0;34m!=\u001B[0m \u001B[0mlen\u001B[0m\u001B[0;34m(\u001B[0m\u001B[0mself\u001B[0m\u001B[0;34m.\u001B[0m\u001B[0mvalues\u001B[0m\u001B[0;34m)\u001B[0m\u001B[0;34m:\u001B[0m\u001B[0;34m\u001B[0m\u001B[0;34m\u001B[0m\u001B[0m\n\u001B[0;32m--> 130\u001B[0;31m             raise ValueError(\n\u001B[0m\u001B[1;32m    131\u001B[0m                 \u001B[0;34mf\"Wrong number of items passed {len(self.values)}, \"\u001B[0m\u001B[0;34m\u001B[0m\u001B[0;34m\u001B[0m\u001B[0m\n",
      "\u001B[0;31mValueError\u001B[0m: Wrong number of items passed 12, placement implies 13",
      "\nDuring handling of the above exception, another exception occurred:\n",
      "\u001B[0;31mValueError\u001B[0m                                Traceback (most recent call last)",
      "\u001B[0;32m<ipython-input-15-0b3ae00cb0a5>\u001B[0m in \u001B[0;36m<module>\u001B[0;34m\u001B[0m\n\u001B[1;32m      3\u001B[0m \u001B[0mcol_without_next_day_rain_temperature\u001B[0m\u001B[0;34m.\u001B[0m\u001B[0mremove\u001B[0m\u001B[0;34m(\u001B[0m\u001B[0;34m\"next_day_rain\"\u001B[0m\u001B[0;34m)\u001B[0m\u001B[0;34m\u001B[0m\u001B[0;34m\u001B[0m\u001B[0m\n\u001B[1;32m      4\u001B[0m \u001B[0mcol_without_next_day_rain_temperature\u001B[0m\u001B[0;34m.\u001B[0m\u001B[0mremove\u001B[0m\u001B[0;34m(\u001B[0m\u001B[0;34m\"temperature\"\u001B[0m\u001B[0;34m)\u001B[0m\u001B[0;34m\u001B[0m\u001B[0;34m\u001B[0m\u001B[0m\n\u001B[0;32m----> 5\u001B[0;31m \u001B[0mmutual_info_df\u001B[0m \u001B[0;34m=\u001B[0m \u001B[0mpd\u001B[0m\u001B[0;34m.\u001B[0m\u001B[0mDataFrame\u001B[0m\u001B[0;34m(\u001B[0m\u001B[0mmutual_info\u001B[0m\u001B[0;34m,\u001B[0m \u001B[0mcolumns\u001B[0m \u001B[0;34m=\u001B[0m \u001B[0mcol_without_next_day_rain\u001B[0m\u001B[0;34m,\u001B[0m \u001B[0mindex\u001B[0m\u001B[0;34m=\u001B[0m\u001B[0;34m[\u001B[0m\u001B[0;34m'Mutual information'\u001B[0m\u001B[0;34m]\u001B[0m\u001B[0;34m)\u001B[0m\u001B[0;34m\u001B[0m\u001B[0;34m\u001B[0m\u001B[0m\n\u001B[0m\u001B[1;32m      6\u001B[0m \u001B[0;34m\u001B[0m\u001B[0m\n\u001B[1;32m      7\u001B[0m \u001B[0;32mfor\u001B[0m \u001B[0mcol\u001B[0m \u001B[0;32min\u001B[0m \u001B[0mcol_without_next_day_rain_temperature\u001B[0m\u001B[0;34m:\u001B[0m\u001B[0;34m\u001B[0m\u001B[0;34m\u001B[0m\u001B[0m\n",
      "\u001B[0;32m~/opt/anaconda3/envs/deep_learning/lib/python3.8/site-packages/pandas/core/frame.py\u001B[0m in \u001B[0;36m__init__\u001B[0;34m(self, data, index, columns, dtype, copy)\u001B[0m\n\u001B[1;32m    495\u001B[0m                 \u001B[0mmgr\u001B[0m \u001B[0;34m=\u001B[0m \u001B[0minit_dict\u001B[0m\u001B[0;34m(\u001B[0m\u001B[0;34m{\u001B[0m\u001B[0mdata\u001B[0m\u001B[0;34m.\u001B[0m\u001B[0mname\u001B[0m\u001B[0;34m:\u001B[0m \u001B[0mdata\u001B[0m\u001B[0;34m}\u001B[0m\u001B[0;34m,\u001B[0m \u001B[0mindex\u001B[0m\u001B[0;34m,\u001B[0m \u001B[0mcolumns\u001B[0m\u001B[0;34m,\u001B[0m \u001B[0mdtype\u001B[0m\u001B[0;34m=\u001B[0m\u001B[0mdtype\u001B[0m\u001B[0;34m)\u001B[0m\u001B[0;34m\u001B[0m\u001B[0;34m\u001B[0m\u001B[0m\n\u001B[1;32m    496\u001B[0m             \u001B[0;32melse\u001B[0m\u001B[0;34m:\u001B[0m\u001B[0;34m\u001B[0m\u001B[0;34m\u001B[0m\u001B[0m\n\u001B[0;32m--> 497\u001B[0;31m                 \u001B[0mmgr\u001B[0m \u001B[0;34m=\u001B[0m \u001B[0minit_ndarray\u001B[0m\u001B[0;34m(\u001B[0m\u001B[0mdata\u001B[0m\u001B[0;34m,\u001B[0m \u001B[0mindex\u001B[0m\u001B[0;34m,\u001B[0m \u001B[0mcolumns\u001B[0m\u001B[0;34m,\u001B[0m \u001B[0mdtype\u001B[0m\u001B[0;34m=\u001B[0m\u001B[0mdtype\u001B[0m\u001B[0;34m,\u001B[0m \u001B[0mcopy\u001B[0m\u001B[0;34m=\u001B[0m\u001B[0mcopy\u001B[0m\u001B[0;34m)\u001B[0m\u001B[0;34m\u001B[0m\u001B[0;34m\u001B[0m\u001B[0m\n\u001B[0m\u001B[1;32m    498\u001B[0m \u001B[0;34m\u001B[0m\u001B[0m\n\u001B[1;32m    499\u001B[0m         \u001B[0;31m# For data is list-like, or Iterable (will consume into list)\u001B[0m\u001B[0;34m\u001B[0m\u001B[0;34m\u001B[0m\u001B[0;34m\u001B[0m\u001B[0m\n",
      "\u001B[0;32m~/opt/anaconda3/envs/deep_learning/lib/python3.8/site-packages/pandas/core/internals/construction.py\u001B[0m in \u001B[0;36minit_ndarray\u001B[0;34m(values, index, columns, dtype, copy)\u001B[0m\n\u001B[1;32m    232\u001B[0m         \u001B[0mblock_values\u001B[0m \u001B[0;34m=\u001B[0m \u001B[0;34m[\u001B[0m\u001B[0mvalues\u001B[0m\u001B[0;34m]\u001B[0m\u001B[0;34m\u001B[0m\u001B[0;34m\u001B[0m\u001B[0m\n\u001B[1;32m    233\u001B[0m \u001B[0;34m\u001B[0m\u001B[0m\n\u001B[0;32m--> 234\u001B[0;31m     \u001B[0;32mreturn\u001B[0m \u001B[0mcreate_block_manager_from_blocks\u001B[0m\u001B[0;34m(\u001B[0m\u001B[0mblock_values\u001B[0m\u001B[0;34m,\u001B[0m \u001B[0;34m[\u001B[0m\u001B[0mcolumns\u001B[0m\u001B[0;34m,\u001B[0m \u001B[0mindex\u001B[0m\u001B[0;34m]\u001B[0m\u001B[0;34m)\u001B[0m\u001B[0;34m\u001B[0m\u001B[0;34m\u001B[0m\u001B[0m\n\u001B[0m\u001B[1;32m    235\u001B[0m \u001B[0;34m\u001B[0m\u001B[0m\n\u001B[1;32m    236\u001B[0m \u001B[0;34m\u001B[0m\u001B[0m\n",
      "\u001B[0;32m~/opt/anaconda3/envs/deep_learning/lib/python3.8/site-packages/pandas/core/internals/managers.py\u001B[0m in \u001B[0;36mcreate_block_manager_from_blocks\u001B[0;34m(blocks, axes)\u001B[0m\n\u001B[1;32m   1670\u001B[0m         \u001B[0mblocks\u001B[0m \u001B[0;34m=\u001B[0m \u001B[0;34m[\u001B[0m\u001B[0mgetattr\u001B[0m\u001B[0;34m(\u001B[0m\u001B[0mb\u001B[0m\u001B[0;34m,\u001B[0m \u001B[0;34m\"values\"\u001B[0m\u001B[0;34m,\u001B[0m \u001B[0mb\u001B[0m\u001B[0;34m)\u001B[0m \u001B[0;32mfor\u001B[0m \u001B[0mb\u001B[0m \u001B[0;32min\u001B[0m \u001B[0mblocks\u001B[0m\u001B[0;34m]\u001B[0m\u001B[0;34m\u001B[0m\u001B[0;34m\u001B[0m\u001B[0m\n\u001B[1;32m   1671\u001B[0m         \u001B[0mtot_items\u001B[0m \u001B[0;34m=\u001B[0m \u001B[0msum\u001B[0m\u001B[0;34m(\u001B[0m\u001B[0mb\u001B[0m\u001B[0;34m.\u001B[0m\u001B[0mshape\u001B[0m\u001B[0;34m[\u001B[0m\u001B[0;36m0\u001B[0m\u001B[0;34m]\u001B[0m \u001B[0;32mfor\u001B[0m \u001B[0mb\u001B[0m \u001B[0;32min\u001B[0m \u001B[0mblocks\u001B[0m\u001B[0;34m)\u001B[0m\u001B[0;34m\u001B[0m\u001B[0;34m\u001B[0m\u001B[0m\n\u001B[0;32m-> 1672\u001B[0;31m         \u001B[0;32mraise\u001B[0m \u001B[0mconstruction_error\u001B[0m\u001B[0;34m(\u001B[0m\u001B[0mtot_items\u001B[0m\u001B[0;34m,\u001B[0m \u001B[0mblocks\u001B[0m\u001B[0;34m[\u001B[0m\u001B[0;36m0\u001B[0m\u001B[0;34m]\u001B[0m\u001B[0;34m.\u001B[0m\u001B[0mshape\u001B[0m\u001B[0;34m[\u001B[0m\u001B[0;36m1\u001B[0m\u001B[0;34m:\u001B[0m\u001B[0;34m]\u001B[0m\u001B[0;34m,\u001B[0m \u001B[0maxes\u001B[0m\u001B[0;34m,\u001B[0m \u001B[0me\u001B[0m\u001B[0;34m)\u001B[0m\u001B[0;34m\u001B[0m\u001B[0;34m\u001B[0m\u001B[0m\n\u001B[0m\u001B[1;32m   1673\u001B[0m \u001B[0;34m\u001B[0m\u001B[0m\n\u001B[1;32m   1674\u001B[0m \u001B[0;34m\u001B[0m\u001B[0m\n",
      "\u001B[0;31mValueError\u001B[0m: Shape of passed values is (1, 12), indices imply (1, 13)"
     ]
    }
   ],
   "source": [
    "mutual_info = np.zeros(shape=(1,len(df.columns)-2))\n",
    "col_without_next_day_rain_temperature = list(df.columns)\n",
    "col_without_next_day_rain_temperature.remove(\"next_day_rain\")\n",
    "col_without_next_day_rain_temperature.remove(\"temperature\")\n",
    "mutual_info_df = pd.DataFrame(mutual_info, columns = col_without_next_day_rain, index=['Mutual information'])\n",
    "\n",
    "for col in col_without_next_day_rain_temperature:\n",
    "    yzx = df[[\"next_day_rain\", col, \"temperature\"]]\n",
    "    yzx = yzx.to_numpy()\n",
    "    Pyzx, edges = np.histogramdd(yzx)\n",
    "    Pyzx = Pyzx/len(df)\n",
    "    print(Pyzx)\n",
    "    Pzx = pd.crosstab(df[\"next_day_rain\"], df[\"temperature\"])\n",
    "    Pzx = Pzx.to_numpy()\n",
    "    Pzx = Pzx/len(df)\n",
    "    mutual_info_df[col] = mutual_information(Pzx) + cond_mutual_information(Pyzx)\n",
    "\n",
    "print(mutual_info_df)"
   ],
   "metadata": {
    "collapsed": false,
    "pycharm": {
     "name": "#%%\n"
    }
   }
  },
  {
   "cell_type": "markdown",
   "source": [
    "### Question 12"
   ],
   "metadata": {
    "collapsed": false,
    "pycharm": {
     "name": "#%% md\n"
    }
   }
  },
  {
   "cell_type": "code",
   "execution_count": 16,
   "outputs": [
    {
     "name": "stdout",
     "output_type": "stream",
     "text": [
      "field_entropy :  4.70043971814109\n",
      "field_entropy_sum :  23.50219859070545\n",
      "game_entropy :  23.502198594922692\n"
     ]
    }
   ],
   "source": [
    "letters_to_guess_nb = 5\n",
    "possible_letters_nb = 26\n",
    "Px = [1/possible_letters_nb for i in range(possible_letters_nb)]\n",
    "\n",
    "# For each field\n",
    "field_entropy = entropy(Px)\n",
    "\n",
    "# Sum of each field\n",
    "field_entropy_array = [field_entropy for i in range(letters_to_guess_nb)]\n",
    "field_entropy_sum = sum(field_entropy_array)\n",
    "\n",
    "# Game entropy\n",
    "comb_nb = possible_letters_nb ** letters_to_guess_nb\n",
    "p = 1/comb_nb\n",
    "\n",
    "Px = [p for i in range(comb_nb)]\n",
    "\n",
    "game_entropy = entropy(Px)\n",
    "\n",
    "print('field_entropy : ', field_entropy)\n",
    "print('field_entropy_sum : ', field_entropy_sum)\n",
    "print('game_entropy : ', game_entropy)"
   ],
   "metadata": {
    "collapsed": false,
    "pycharm": {
     "name": "#%%\n"
    }
   }
  },
  {
   "cell_type": "markdown",
   "source": [
    "### Question 13"
   ],
   "metadata": {
    "collapsed": false,
    "pycharm": {
     "name": "#%% md\n"
    }
   }
  },
  {
   "cell_type": "code",
   "execution_count": 17,
   "outputs": [
    {
     "name": "stdout",
     "output_type": "stream",
     "text": [
      "field_entropy :  4.459431618637295\n",
      "field_entropy_sum :  17.83772647454918\n",
      "game_entropy :  17.83772647455847\n"
     ]
    }
   ],
   "source": [
    "letters_to_guess_nb = 4\n",
    "possible_letters_nb = 22\n",
    "Px = [1/possible_letters_nb for i in range(possible_letters_nb)]\n",
    "\n",
    "# For each field\n",
    "field_entropy = entropy(Px)\n",
    "\n",
    "# Sum of each field\n",
    "field_entropy_array = [field_entropy for i in range(letters_to_guess_nb)]\n",
    "field_entropy_sum = sum(field_entropy_array)\n",
    "\n",
    "# Game entropy\n",
    "comb_nb = possible_letters_nb ** letters_to_guess_nb\n",
    "p = 1/comb_nb\n",
    "\n",
    "Px = [p for i in range(comb_nb)]\n",
    "\n",
    "game_entropy = entropy(Px)\n",
    "\n",
    "print('field_entropy : ', field_entropy)\n",
    "print('field_entropy_sum : ', field_entropy_sum)\n",
    "print('game_entropy : ', game_entropy)"
   ],
   "metadata": {
    "collapsed": false,
    "pycharm": {
     "name": "#%%\n"
    }
   }
  },
  {
   "cell_type": "markdown",
   "source": [
    "### Question 14"
   ],
   "metadata": {
    "collapsed": false,
    "pycharm": {
     "name": "#%% md\n"
    }
   }
  },
  {
   "cell_type": "code",
   "execution_count": 44,
   "outputs": [
    {
     "name": "stdout",
     "output_type": "stream",
     "text": [
      "PG :  0.3333333333333333\n",
      "0.9999999999999997\n",
      "1.0\n",
      "entropy_1_3_5 :  3.6432710615547164\n",
      "entropy_4 :  4.08746284125034\n",
      "field_entropy_sum :  15.017276025914487\n",
      "game_entropy :  13.931383892543712\n"
     ]
    }
   ],
   "source": [
    "# For field 1, 3 and 5\n",
    "possible_letters_nb = 17\n",
    "pG = 1/3\n",
    "print('PG : ', pG)\n",
    "p = (1-pG)/possible_letters_nb\n",
    "\n",
    "Px = [p, 0, p, p, 0, p, pG, 0, p, p, p, 0, p, p, 0, p, p, 0, p, 0, 0, p, p, p, p, p]\n",
    "\n",
    "entropy_1_3_5 = entropy(Px)\n",
    "print(sum(Px))\n",
    "\n",
    "# For field 4\n",
    "possible_letters_nb = 17\n",
    "p = 1/possible_letters_nb\n",
    "\n",
    "Px = [p, 0, p, p, 0, p, 0, 0, p, p, p, 0, p, p, 0, p, p, 0, p, 0, 0, p, p, p, p, p]\n",
    "print(sum(Px))\n",
    "entropy_4 = entropy(Px)\n",
    "\n",
    "# Sum of each field\n",
    "field_entropy_sum = 3*entropy_1_3_5 + entropy_4\n",
    "\n",
    "# Game entropy\n",
    "comb_nb = (1*17*17*17) + (17*1*17*17) + (17*17*17*1) + \\\n",
    "        (1*1*17*17) + (17*1*17*1) + (1*17*17*1) + (1*1*17*1)\n",
    "\n",
    "p = 1/comb_nb\n",
    "\n",
    "Px = [p for i in range(comb_nb)]\n",
    "\n",
    "game_entropy = entropy(Px)\n",
    "\n",
    "print('entropy_1_3_5 : ', entropy_1_3_5)\n",
    "print('entropy_4 : ', entropy_4)\n",
    "print('field_entropy_sum : ', field_entropy_sum)\n",
    "print('game_entropy : ', game_entropy)"
   ],
   "metadata": {
    "collapsed": false,
    "pycharm": {
     "name": "#%%\n"
    }
   }
  },
  {
   "cell_type": "code",
   "execution_count": null,
   "outputs": [],
   "source": [],
   "metadata": {
    "collapsed": false,
    "pycharm": {
     "name": "#%%\n"
    }
   }
  }
 ],
 "metadata": {
  "kernelspec": {
   "display_name": "Python 3 (ipykernel)",
   "language": "python",
   "name": "python3"
  },
  "language_info": {
   "codemirror_mode": {
    "name": "ipython",
    "version": 3
   },
   "file_extension": ".py",
   "mimetype": "text/x-python",
   "name": "python",
   "nbconvert_exporter": "python",
   "pygments_lexer": "ipython3",
   "version": "3.9.7"
  }
 },
 "nbformat": 4,
 "nbformat_minor": 4
}